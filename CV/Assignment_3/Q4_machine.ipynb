{
 "cells": [
  {
   "cell_type": "markdown",
   "id": "confused-edgar",
   "metadata": {},
   "source": [
    "## Q4"
   ]
  },
  {
   "cell_type": "code",
   "execution_count": 1,
   "id": "occasional-interface",
   "metadata": {},
   "outputs": [],
   "source": [
    "from PIL import Image\n",
    "import numpy as np\n",
    "import matplotlib.pyplot as plt\n",
    "from matplotlib import cm\n",
    "\n",
    "import torch\n",
    "from torchvision import datasets, transforms\n",
    "from torch import nn, optim\n",
    "import torch.nn.functional as F\n",
    "import matplotlib.pyplot as plt\n",
    "import numpy as np\n",
    "from Utils import *\n",
    "from Templates import *\n",
    "from torch.utils.data import Dataset, DataLoader"
   ]
  },
  {
   "cell_type": "code",
   "execution_count": 2,
   "id": "efficient-peoples",
   "metadata": {},
   "outputs": [],
   "source": [
    "trainset = DataAugment3('./dataset/',train= True)\n",
    "train_loader = DataLoader(trainset, batch_size = 2, shuffle = True)\n",
    "\n",
    "testset = DataAugment3('./dataset/',train= False)\n",
    "test_loader = DataLoader(testset, batch_size = 15, shuffle = True)"
   ]
  },
  {
   "cell_type": "code",
   "execution_count": 4,
   "id": "blessed-march",
   "metadata": {},
   "outputs": [],
   "source": [
    "epochs = 10\n",
    "lr = 1e-4\n",
    "device = torch.device(\"cuda:0\" if (torch.cuda.is_available()) else \"cpu\")\n",
    "log_interval = 1\n",
    "trained = True\n",
    "path = './Models/'\n",
    "save = False\n",
    "\n",
    "net = Model(out_ch = 11).to(device)\n",
    "criterion = nn.NLLLoss()\n",
    "optimizer = torch.optim.Adam(net.parameters(), lr = lr) \n",
    "\n",
    "train_losses = []\n",
    "train_loss = 0\n",
    "\n",
    "if trained:\n",
    "    d = torch.load(path+'q4.pth',map_location=torch.device('cpu'))\n",
    "    train_losses = d['train_losses']\n",
    "    net.load_state_dict(d['state_dict'])"
   ]
  },
  {
   "cell_type": "code",
   "execution_count": 31,
   "id": "premier-trauma",
   "metadata": {
    "scrolled": true
   },
   "outputs": [
    {
     "name": "stdout",
     "output_type": "stream",
     "text": [
      "Train Epoch: 0 [0/15000 (0%)]\tLoss: 2.401297\n",
      "Model Saved Epoch: 0,Idx:0\n",
      "Train Epoch: 0 [1/15000 (0%)]\tLoss: 2.400144\n",
      "Model Saved Epoch: 0,Idx:1\n",
      "Train Epoch: 0 [2/15000 (0%)]\tLoss: 2.399423\n",
      "Model Saved Epoch: 0,Idx:2\n",
      "Train Epoch: 0 [3/15000 (0%)]\tLoss: 2.398622\n",
      "Model Saved Epoch: 0,Idx:3\n",
      "Train Epoch: 0 [4/15000 (0%)]\tLoss: 2.398483\n",
      "Model Saved Epoch: 0,Idx:4\n",
      "Train Epoch: 0 [5/15000 (0%)]\tLoss: 2.397922\n",
      "Model Saved Epoch: 0,Idx:5\n",
      "Train Epoch: 0 [6/15000 (0%)]\tLoss: 2.396890\n",
      "Model Saved Epoch: 0,Idx:6\n",
      "Train Epoch: 0 [7/15000 (0%)]\tLoss: 2.396197\n",
      "Model Saved Epoch: 0,Idx:7\n",
      "Train Epoch: 0 [8/15000 (0%)]\tLoss: 2.395944\n",
      "Model Saved Epoch: 0,Idx:8\n",
      "Train Epoch: 0 [9/15000 (0%)]\tLoss: 2.394983\n",
      "Model Saved Epoch: 0,Idx:9\n",
      "Train Epoch: 0 [10/15000 (0%)]\tLoss: 2.393744\n",
      "Model Saved Epoch: 0,Idx:10\n",
      "Train Epoch: 0 [11/15000 (0%)]\tLoss: 2.392282\n",
      "Model Saved Epoch: 0,Idx:11\n",
      "Train Epoch: 0 [12/15000 (0%)]\tLoss: 2.390635\n",
      "Model Saved Epoch: 0,Idx:12\n",
      "Train Epoch: 0 [13/15000 (0%)]\tLoss: 2.388407\n",
      "Model Saved Epoch: 0,Idx:13\n",
      "Train Epoch: 0 [14/15000 (0%)]\tLoss: 2.386100\n",
      "Model Saved Epoch: 0,Idx:14\n",
      "Train Epoch: 0 [15/15000 (0%)]\tLoss: 2.382564\n",
      "Model Saved Epoch: 0,Idx:15\n",
      "Train Epoch: 0 [16/15000 (0%)]\tLoss: 2.377503\n",
      "Model Saved Epoch: 0,Idx:16\n",
      "Train Epoch: 0 [17/15000 (0%)]\tLoss: 2.371256\n",
      "Model Saved Epoch: 0,Idx:17\n",
      "Train Epoch: 0 [18/15000 (0%)]\tLoss: 2.361793\n",
      "Model Saved Epoch: 0,Idx:18\n",
      "Train Epoch: 0 [19/15000 (0%)]\tLoss: 2.350418\n",
      "Model Saved Epoch: 0,Idx:19\n",
      "Train Epoch: 0 [20/15000 (0%)]\tLoss: 2.329445\n",
      "Model Saved Epoch: 0,Idx:20\n",
      "Train Epoch: 0 [21/15000 (0%)]\tLoss: 2.298886\n",
      "Model Saved Epoch: 0,Idx:21\n",
      "Train Epoch: 0 [22/15000 (0%)]\tLoss: 2.248896\n",
      "Model Saved Epoch: 0,Idx:22\n",
      "Train Epoch: 0 [23/15000 (0%)]\tLoss: 2.169637\n",
      "Model Saved Epoch: 0,Idx:23\n",
      "Train Epoch: 0 [24/15000 (0%)]\tLoss: 2.066269\n",
      "Model Saved Epoch: 0,Idx:24\n",
      "Train Epoch: 0 [25/15000 (0%)]\tLoss: 1.943502\n",
      "Model Saved Epoch: 0,Idx:25\n",
      "Train Epoch: 0 [26/15000 (0%)]\tLoss: 1.836246\n",
      "Model Saved Epoch: 0,Idx:26\n",
      "Train Epoch: 0 [27/15000 (0%)]\tLoss: 1.783930\n",
      "Model Saved Epoch: 0,Idx:27\n",
      "Train Epoch: 0 [28/15000 (0%)]\tLoss: 1.724083\n",
      "Model Saved Epoch: 0,Idx:28\n",
      "Train Epoch: 0 [29/15000 (0%)]\tLoss: 1.716150\n",
      "Model Saved Epoch: 0,Idx:29\n",
      "Train Epoch: 0 [30/15000 (0%)]\tLoss: 1.693798\n",
      "Model Saved Epoch: 0,Idx:30\n",
      "Train Epoch: 0 [31/15000 (0%)]\tLoss: 1.685178\n",
      "Model Saved Epoch: 0,Idx:31\n",
      "Train Epoch: 0 [32/15000 (0%)]\tLoss: 1.690054\n",
      "Model Saved Epoch: 0,Idx:32\n",
      "Train Epoch: 0 [33/15000 (0%)]\tLoss: 1.691332\n",
      "Model Saved Epoch: 0,Idx:33\n",
      "Train Epoch: 0 [34/15000 (0%)]\tLoss: 1.683440\n",
      "Model Saved Epoch: 0,Idx:34\n",
      "Train Epoch: 0 [35/15000 (0%)]\tLoss: 1.678201\n",
      "Model Saved Epoch: 0,Idx:35\n",
      "Train Epoch: 0 [36/15000 (0%)]\tLoss: 1.690840\n",
      "Model Saved Epoch: 0,Idx:36\n",
      "Train Epoch: 0 [37/15000 (0%)]\tLoss: 1.704965\n",
      "Model Saved Epoch: 0,Idx:37\n",
      "Train Epoch: 0 [38/15000 (0%)]\tLoss: 1.677373\n",
      "Model Saved Epoch: 0,Idx:38\n",
      "Train Epoch: 0 [39/15000 (0%)]\tLoss: 1.680580\n",
      "Model Saved Epoch: 0,Idx:39\n",
      "Train Epoch: 0 [40/15000 (0%)]\tLoss: 1.685025\n",
      "Model Saved Epoch: 0,Idx:40\n",
      "Train Epoch: 0 [41/15000 (0%)]\tLoss: 1.690136\n",
      "Model Saved Epoch: 0,Idx:41\n",
      "Train Epoch: 0 [42/15000 (0%)]\tLoss: 1.679989\n",
      "Model Saved Epoch: 0,Idx:42\n",
      "Train Epoch: 0 [43/15000 (0%)]\tLoss: 1.675329\n",
      "Model Saved Epoch: 0,Idx:43\n",
      "Train Epoch: 0 [44/15000 (0%)]\tLoss: 1.691566\n",
      "Model Saved Epoch: 0,Idx:44\n",
      "Train Epoch: 0 [45/15000 (0%)]\tLoss: 1.680078\n",
      "Model Saved Epoch: 0,Idx:45\n",
      "Train Epoch: 0 [46/15000 (0%)]\tLoss: 1.670900\n",
      "Model Saved Epoch: 0,Idx:46\n",
      "Train Epoch: 0 [47/15000 (0%)]\tLoss: 1.673523\n",
      "Model Saved Epoch: 0,Idx:47\n",
      "Train Epoch: 0 [48/15000 (0%)]\tLoss: 1.673675\n",
      "Model Saved Epoch: 0,Idx:48\n",
      "Train Epoch: 0 [49/15000 (0%)]\tLoss: 1.676064\n",
      "Model Saved Epoch: 0,Idx:49\n",
      "Train Epoch: 0 [50/15000 (0%)]\tLoss: 1.705396\n",
      "Model Saved Epoch: 0,Idx:50\n",
      "Train Epoch: 0 [51/15000 (0%)]\tLoss: 1.706589\n",
      "Model Saved Epoch: 0,Idx:51\n",
      "Train Epoch: 0 [52/15000 (0%)]\tLoss: 1.702918\n",
      "Model Saved Epoch: 0,Idx:52\n",
      "Train Epoch: 0 [53/15000 (0%)]\tLoss: 1.664413\n",
      "Model Saved Epoch: 0,Idx:53\n",
      "Train Epoch: 0 [54/15000 (0%)]\tLoss: 1.691755\n",
      "Model Saved Epoch: 0,Idx:54\n",
      "Train Epoch: 0 [55/15000 (0%)]\tLoss: 1.673178\n",
      "Model Saved Epoch: 0,Idx:55\n",
      "Train Epoch: 0 [56/15000 (0%)]\tLoss: 1.676043\n",
      "Model Saved Epoch: 0,Idx:56\n",
      "Train Epoch: 0 [57/15000 (0%)]\tLoss: 1.691348\n",
      "Model Saved Epoch: 0,Idx:57\n",
      "Train Epoch: 0 [58/15000 (0%)]\tLoss: 1.684571\n",
      "Model Saved Epoch: 0,Idx:58\n",
      "Train Epoch: 0 [59/15000 (0%)]\tLoss: 1.682652\n",
      "Model Saved Epoch: 0,Idx:59\n",
      "Train Epoch: 0 [60/15000 (0%)]\tLoss: 1.676830\n",
      "Model Saved Epoch: 0,Idx:60\n",
      "Train Epoch: 0 [61/15000 (0%)]\tLoss: 1.671405\n",
      "Model Saved Epoch: 0,Idx:61\n",
      "Train Epoch: 0 [62/15000 (0%)]\tLoss: 1.676026\n",
      "Model Saved Epoch: 0,Idx:62\n",
      "Train Epoch: 0 [63/15000 (0%)]\tLoss: 1.690056\n",
      "Model Saved Epoch: 0,Idx:63\n",
      "Train Epoch: 0 [64/15000 (0%)]\tLoss: 1.693239\n",
      "Model Saved Epoch: 0,Idx:64\n",
      "Train Epoch: 0 [65/15000 (0%)]\tLoss: 1.683749\n",
      "Model Saved Epoch: 0,Idx:65\n",
      "Train Epoch: 0 [66/15000 (0%)]\tLoss: 1.681992\n",
      "Model Saved Epoch: 0,Idx:66\n",
      "Train Epoch: 0 [67/15000 (0%)]\tLoss: 1.686532\n",
      "Model Saved Epoch: 0,Idx:67\n",
      "Train Epoch: 0 [68/15000 (0%)]\tLoss: 1.696653\n",
      "Model Saved Epoch: 0,Idx:68\n",
      "Train Epoch: 0 [69/15000 (0%)]\tLoss: 1.668109\n",
      "Model Saved Epoch: 0,Idx:69\n",
      "Train Epoch: 0 [70/15000 (0%)]\tLoss: 1.696804\n",
      "Model Saved Epoch: 0,Idx:70\n",
      "Train Epoch: 0 [71/15000 (0%)]\tLoss: 1.688829\n",
      "Model Saved Epoch: 0,Idx:71\n",
      "Train Epoch: 0 [72/15000 (0%)]\tLoss: 1.694564\n",
      "Model Saved Epoch: 0,Idx:72\n",
      "Train Epoch: 0 [73/15000 (0%)]\tLoss: 1.694238\n",
      "Model Saved Epoch: 0,Idx:73\n",
      "Train Epoch: 0 [74/15000 (0%)]\tLoss: 1.686339\n",
      "Model Saved Epoch: 0,Idx:74\n",
      "Train Epoch: 0 [75/15000 (0%)]\tLoss: 1.687291\n",
      "Model Saved Epoch: 0,Idx:75\n",
      "Train Epoch: 0 [76/15000 (1%)]\tLoss: 1.681150\n",
      "Model Saved Epoch: 0,Idx:76\n",
      "Train Epoch: 0 [77/15000 (1%)]\tLoss: 1.677555\n",
      "Model Saved Epoch: 0,Idx:77\n",
      "Train Epoch: 0 [78/15000 (1%)]\tLoss: 1.691099\n",
      "Model Saved Epoch: 0,Idx:78\n",
      "Train Epoch: 0 [79/15000 (1%)]\tLoss: 1.688068\n",
      "Model Saved Epoch: 0,Idx:79\n",
      "Train Epoch: 0 [80/15000 (1%)]\tLoss: 1.682557\n",
      "Model Saved Epoch: 0,Idx:80\n",
      "Train Epoch: 0 [81/15000 (1%)]\tLoss: 1.683754\n",
      "Model Saved Epoch: 0,Idx:81\n",
      "Train Epoch: 0 [82/15000 (1%)]\tLoss: 1.675690\n",
      "Model Saved Epoch: 0,Idx:82\n",
      "Train Epoch: 0 [83/15000 (1%)]\tLoss: 1.679673\n",
      "Model Saved Epoch: 0,Idx:83\n",
      "Train Epoch: 0 [84/15000 (1%)]\tLoss: 1.667323\n",
      "Model Saved Epoch: 0,Idx:84\n",
      "Train Epoch: 0 [85/15000 (1%)]\tLoss: 1.684837\n",
      "Model Saved Epoch: 0,Idx:85\n",
      "Train Epoch: 0 [86/15000 (1%)]\tLoss: 1.710817\n",
      "Model Saved Epoch: 0,Idx:86\n",
      "Train Epoch: 0 [87/15000 (1%)]\tLoss: 1.695038\n",
      "Model Saved Epoch: 0,Idx:87\n",
      "Train Epoch: 0 [88/15000 (1%)]\tLoss: 1.694475\n",
      "Model Saved Epoch: 0,Idx:88\n",
      "Train Epoch: 0 [89/15000 (1%)]\tLoss: 1.700519\n",
      "Model Saved Epoch: 0,Idx:89\n",
      "Train Epoch: 0 [90/15000 (1%)]\tLoss: 1.690154\n",
      "Model Saved Epoch: 0,Idx:90\n",
      "Train Epoch: 0 [91/15000 (1%)]\tLoss: 1.680659\n",
      "Model Saved Epoch: 0,Idx:91\n",
      "Train Epoch: 0 [92/15000 (1%)]\tLoss: 1.680579\n",
      "Model Saved Epoch: 0,Idx:92\n",
      "Train Epoch: 0 [93/15000 (1%)]\tLoss: 1.680729\n",
      "Model Saved Epoch: 0,Idx:93\n",
      "Train Epoch: 0 [94/15000 (1%)]\tLoss: 1.694680\n",
      "Model Saved Epoch: 0,Idx:94\n",
      "Train Epoch: 0 [95/15000 (1%)]\tLoss: 1.699837\n",
      "Model Saved Epoch: 0,Idx:95\n",
      "Train Epoch: 0 [96/15000 (1%)]\tLoss: 1.692598\n",
      "Model Saved Epoch: 0,Idx:96\n",
      "Train Epoch: 0 [97/15000 (1%)]\tLoss: 1.691878\n",
      "Model Saved Epoch: 0,Idx:97\n",
      "Train Epoch: 0 [98/15000 (1%)]\tLoss: 1.690837\n",
      "Model Saved Epoch: 0,Idx:98\n",
      "Train Epoch: 0 [99/15000 (1%)]\tLoss: 1.673143\n",
      "Model Saved Epoch: 0,Idx:99\n",
      "Train Epoch: 0 [100/15000 (1%)]\tLoss: 1.695925\n",
      "Model Saved Epoch: 0,Idx:100\n",
      "Train Epoch: 0 [101/15000 (1%)]\tLoss: 1.691694\n",
      "Model Saved Epoch: 0,Idx:101\n",
      "Train Epoch: 0 [102/15000 (1%)]\tLoss: 1.686835\n",
      "Model Saved Epoch: 0,Idx:102\n",
      "Train Epoch: 0 [103/15000 (1%)]\tLoss: 1.687471\n",
      "Model Saved Epoch: 0,Idx:103\n",
      "Train Epoch: 0 [104/15000 (1%)]\tLoss: 1.684677\n",
      "Model Saved Epoch: 0,Idx:104\n",
      "Train Epoch: 0 [105/15000 (1%)]\tLoss: 1.696633\n",
      "Model Saved Epoch: 0,Idx:105\n",
      "Train Epoch: 0 [106/15000 (1%)]\tLoss: 1.679887\n",
      "Model Saved Epoch: 0,Idx:106\n",
      "Train Epoch: 0 [107/15000 (1%)]\tLoss: 1.679581\n",
      "Model Saved Epoch: 0,Idx:107\n",
      "Train Epoch: 0 [108/15000 (1%)]\tLoss: 1.678855\n",
      "Model Saved Epoch: 0,Idx:108\n",
      "Train Epoch: 0 [109/15000 (1%)]\tLoss: 1.711060\n",
      "Model Saved Epoch: 0,Idx:109\n",
      "Train Epoch: 0 [110/15000 (1%)]\tLoss: 1.686593\n",
      "Model Saved Epoch: 0,Idx:110\n"
     ]
    },
    {
     "name": "stdout",
     "output_type": "stream",
     "text": [
      "Train Epoch: 0 [111/15000 (1%)]\tLoss: 1.680919\n",
      "Model Saved Epoch: 0,Idx:111\n",
      "Train Epoch: 0 [112/15000 (1%)]\tLoss: 1.692558\n",
      "Model Saved Epoch: 0,Idx:112\n",
      "Train Epoch: 0 [113/15000 (1%)]\tLoss: 1.705958\n",
      "Model Saved Epoch: 0,Idx:113\n",
      "Train Epoch: 0 [114/15000 (1%)]\tLoss: 1.681161\n",
      "Model Saved Epoch: 0,Idx:114\n",
      "Train Epoch: 0 [115/15000 (1%)]\tLoss: 1.710094\n",
      "Model Saved Epoch: 0,Idx:115\n",
      "Train Epoch: 0 [116/15000 (1%)]\tLoss: 1.671594\n",
      "Model Saved Epoch: 0,Idx:116\n",
      "Train Epoch: 0 [117/15000 (1%)]\tLoss: 1.679245\n",
      "Model Saved Epoch: 0,Idx:117\n",
      "Train Epoch: 0 [118/15000 (1%)]\tLoss: 1.688179\n",
      "Model Saved Epoch: 0,Idx:118\n",
      "Train Epoch: 0 [119/15000 (1%)]\tLoss: 1.676295\n",
      "Model Saved Epoch: 0,Idx:119\n",
      "Train Epoch: 0 [120/15000 (1%)]\tLoss: 1.676447\n",
      "Model Saved Epoch: 0,Idx:120\n",
      "Train Epoch: 0 [121/15000 (1%)]\tLoss: 1.686665\n",
      "Model Saved Epoch: 0,Idx:121\n",
      "Train Epoch: 0 [122/15000 (1%)]\tLoss: 1.682667\n",
      "Model Saved Epoch: 0,Idx:122\n",
      "Train Epoch: 0 [123/15000 (1%)]\tLoss: 1.686334\n",
      "Model Saved Epoch: 0,Idx:123\n",
      "Train Epoch: 0 [124/15000 (1%)]\tLoss: 1.701878\n",
      "Model Saved Epoch: 0,Idx:124\n",
      "Train Epoch: 0 [125/15000 (1%)]\tLoss: 1.680676\n",
      "Model Saved Epoch: 0,Idx:125\n",
      "Train Epoch: 0 [126/15000 (1%)]\tLoss: 1.677485\n",
      "Model Saved Epoch: 0,Idx:126\n",
      "Train Epoch: 0 [127/15000 (1%)]\tLoss: 1.674937\n",
      "Model Saved Epoch: 0,Idx:127\n"
     ]
    },
    {
     "ename": "KeyboardInterrupt",
     "evalue": "",
     "output_type": "error",
     "traceback": [
      "\u001b[0;31m---------------------------------------------------------------------------\u001b[0m",
      "\u001b[0;31mKeyboardInterrupt\u001b[0m                         Traceback (most recent call last)",
      "\u001b[0;32m<ipython-input-31-f9cc959f10de>\u001b[0m in \u001b[0;36m<module>\u001b[0;34m\u001b[0m\n\u001b[1;32m      1\u001b[0m \u001b[0;32mfor\u001b[0m \u001b[0me\u001b[0m \u001b[0;32min\u001b[0m \u001b[0mrange\u001b[0m\u001b[0;34m(\u001b[0m\u001b[0mepochs\u001b[0m\u001b[0;34m)\u001b[0m\u001b[0;34m:\u001b[0m\u001b[0;34m\u001b[0m\u001b[0;34m\u001b[0m\u001b[0m\n\u001b[1;32m      2\u001b[0m     \u001b[0mnet\u001b[0m\u001b[0;34m.\u001b[0m\u001b[0mtrain\u001b[0m\u001b[0;34m(\u001b[0m\u001b[0;34m)\u001b[0m\u001b[0;34m\u001b[0m\u001b[0;34m\u001b[0m\u001b[0m\n\u001b[0;32m----> 3\u001b[0;31m     \u001b[0;32mfor\u001b[0m \u001b[0midx\u001b[0m\u001b[0;34m,\u001b[0m \u001b[0mdata\u001b[0m \u001b[0;32min\u001b[0m \u001b[0menumerate\u001b[0m\u001b[0;34m(\u001b[0m\u001b[0mtrain_loader\u001b[0m\u001b[0;34m)\u001b[0m\u001b[0;34m:\u001b[0m\u001b[0;34m\u001b[0m\u001b[0;34m\u001b[0m\u001b[0m\n\u001b[0m\u001b[1;32m      4\u001b[0m         \u001b[0minpt\u001b[0m \u001b[0;34m=\u001b[0m \u001b[0mdata\u001b[0m\u001b[0;34m[\u001b[0m\u001b[0;34m'x'\u001b[0m\u001b[0;34m]\u001b[0m\u001b[0;34m.\u001b[0m\u001b[0mto\u001b[0m\u001b[0;34m(\u001b[0m\u001b[0mdevice\u001b[0m\u001b[0;34m)\u001b[0m\u001b[0;34m\u001b[0m\u001b[0;34m\u001b[0m\u001b[0m\n\u001b[1;32m      5\u001b[0m         \u001b[0mseg_mask\u001b[0m \u001b[0;34m=\u001b[0m \u001b[0mdata\u001b[0m\u001b[0;34m[\u001b[0m\u001b[0;34m'seg_mask'\u001b[0m\u001b[0;34m]\u001b[0m\u001b[0;34m.\u001b[0m\u001b[0mto\u001b[0m\u001b[0;34m(\u001b[0m\u001b[0mdevice\u001b[0m\u001b[0;34m)\u001b[0m\u001b[0;34m\u001b[0m\u001b[0;34m\u001b[0m\u001b[0m\n",
      "\u001b[0;32m~/.local/lib/python3.8/site-packages/torch/utils/data/dataloader.py\u001b[0m in \u001b[0;36m__next__\u001b[0;34m(self)\u001b[0m\n\u001b[1;32m    433\u001b[0m         \u001b[0;32mif\u001b[0m \u001b[0mself\u001b[0m\u001b[0;34m.\u001b[0m\u001b[0m_sampler_iter\u001b[0m \u001b[0;32mis\u001b[0m \u001b[0;32mNone\u001b[0m\u001b[0;34m:\u001b[0m\u001b[0;34m\u001b[0m\u001b[0;34m\u001b[0m\u001b[0m\n\u001b[1;32m    434\u001b[0m             \u001b[0mself\u001b[0m\u001b[0;34m.\u001b[0m\u001b[0m_reset\u001b[0m\u001b[0;34m(\u001b[0m\u001b[0;34m)\u001b[0m\u001b[0;34m\u001b[0m\u001b[0;34m\u001b[0m\u001b[0m\n\u001b[0;32m--> 435\u001b[0;31m         \u001b[0mdata\u001b[0m \u001b[0;34m=\u001b[0m \u001b[0mself\u001b[0m\u001b[0;34m.\u001b[0m\u001b[0m_next_data\u001b[0m\u001b[0;34m(\u001b[0m\u001b[0;34m)\u001b[0m\u001b[0;34m\u001b[0m\u001b[0;34m\u001b[0m\u001b[0m\n\u001b[0m\u001b[1;32m    436\u001b[0m         \u001b[0mself\u001b[0m\u001b[0;34m.\u001b[0m\u001b[0m_num_yielded\u001b[0m \u001b[0;34m+=\u001b[0m \u001b[0;36m1\u001b[0m\u001b[0;34m\u001b[0m\u001b[0;34m\u001b[0m\u001b[0m\n\u001b[1;32m    437\u001b[0m         \u001b[0;32mif\u001b[0m \u001b[0mself\u001b[0m\u001b[0;34m.\u001b[0m\u001b[0m_dataset_kind\u001b[0m \u001b[0;34m==\u001b[0m \u001b[0m_DatasetKind\u001b[0m\u001b[0;34m.\u001b[0m\u001b[0mIterable\u001b[0m \u001b[0;32mand\u001b[0m\u001b[0;31m \u001b[0m\u001b[0;31m\\\u001b[0m\u001b[0;34m\u001b[0m\u001b[0;34m\u001b[0m\u001b[0m\n",
      "\u001b[0;32m~/.local/lib/python3.8/site-packages/torch/utils/data/dataloader.py\u001b[0m in \u001b[0;36m_next_data\u001b[0;34m(self)\u001b[0m\n\u001b[1;32m    473\u001b[0m     \u001b[0;32mdef\u001b[0m \u001b[0m_next_data\u001b[0m\u001b[0;34m(\u001b[0m\u001b[0mself\u001b[0m\u001b[0;34m)\u001b[0m\u001b[0;34m:\u001b[0m\u001b[0;34m\u001b[0m\u001b[0;34m\u001b[0m\u001b[0m\n\u001b[1;32m    474\u001b[0m         \u001b[0mindex\u001b[0m \u001b[0;34m=\u001b[0m \u001b[0mself\u001b[0m\u001b[0;34m.\u001b[0m\u001b[0m_next_index\u001b[0m\u001b[0;34m(\u001b[0m\u001b[0;34m)\u001b[0m  \u001b[0;31m# may raise StopIteration\u001b[0m\u001b[0;34m\u001b[0m\u001b[0;34m\u001b[0m\u001b[0m\n\u001b[0;32m--> 475\u001b[0;31m         \u001b[0mdata\u001b[0m \u001b[0;34m=\u001b[0m \u001b[0mself\u001b[0m\u001b[0;34m.\u001b[0m\u001b[0m_dataset_fetcher\u001b[0m\u001b[0;34m.\u001b[0m\u001b[0mfetch\u001b[0m\u001b[0;34m(\u001b[0m\u001b[0mindex\u001b[0m\u001b[0;34m)\u001b[0m  \u001b[0;31m# may raise StopIteration\u001b[0m\u001b[0;34m\u001b[0m\u001b[0;34m\u001b[0m\u001b[0m\n\u001b[0m\u001b[1;32m    476\u001b[0m         \u001b[0;32mif\u001b[0m \u001b[0mself\u001b[0m\u001b[0;34m.\u001b[0m\u001b[0m_pin_memory\u001b[0m\u001b[0;34m:\u001b[0m\u001b[0;34m\u001b[0m\u001b[0;34m\u001b[0m\u001b[0m\n\u001b[1;32m    477\u001b[0m             \u001b[0mdata\u001b[0m \u001b[0;34m=\u001b[0m \u001b[0m_utils\u001b[0m\u001b[0;34m.\u001b[0m\u001b[0mpin_memory\u001b[0m\u001b[0;34m.\u001b[0m\u001b[0mpin_memory\u001b[0m\u001b[0;34m(\u001b[0m\u001b[0mdata\u001b[0m\u001b[0;34m)\u001b[0m\u001b[0;34m\u001b[0m\u001b[0;34m\u001b[0m\u001b[0m\n",
      "\u001b[0;32m~/.local/lib/python3.8/site-packages/torch/utils/data/_utils/fetch.py\u001b[0m in \u001b[0;36mfetch\u001b[0;34m(self, possibly_batched_index)\u001b[0m\n\u001b[1;32m     42\u001b[0m     \u001b[0;32mdef\u001b[0m \u001b[0mfetch\u001b[0m\u001b[0;34m(\u001b[0m\u001b[0mself\u001b[0m\u001b[0;34m,\u001b[0m \u001b[0mpossibly_batched_index\u001b[0m\u001b[0;34m)\u001b[0m\u001b[0;34m:\u001b[0m\u001b[0;34m\u001b[0m\u001b[0;34m\u001b[0m\u001b[0m\n\u001b[1;32m     43\u001b[0m         \u001b[0;32mif\u001b[0m \u001b[0mself\u001b[0m\u001b[0;34m.\u001b[0m\u001b[0mauto_collation\u001b[0m\u001b[0;34m:\u001b[0m\u001b[0;34m\u001b[0m\u001b[0;34m\u001b[0m\u001b[0m\n\u001b[0;32m---> 44\u001b[0;31m             \u001b[0mdata\u001b[0m \u001b[0;34m=\u001b[0m \u001b[0;34m[\u001b[0m\u001b[0mself\u001b[0m\u001b[0;34m.\u001b[0m\u001b[0mdataset\u001b[0m\u001b[0;34m[\u001b[0m\u001b[0midx\u001b[0m\u001b[0;34m]\u001b[0m \u001b[0;32mfor\u001b[0m \u001b[0midx\u001b[0m \u001b[0;32min\u001b[0m \u001b[0mpossibly_batched_index\u001b[0m\u001b[0;34m]\u001b[0m\u001b[0;34m\u001b[0m\u001b[0;34m\u001b[0m\u001b[0m\n\u001b[0m\u001b[1;32m     45\u001b[0m         \u001b[0;32melse\u001b[0m\u001b[0;34m:\u001b[0m\u001b[0;34m\u001b[0m\u001b[0;34m\u001b[0m\u001b[0m\n\u001b[1;32m     46\u001b[0m             \u001b[0mdata\u001b[0m \u001b[0;34m=\u001b[0m \u001b[0mself\u001b[0m\u001b[0;34m.\u001b[0m\u001b[0mdataset\u001b[0m\u001b[0;34m[\u001b[0m\u001b[0mpossibly_batched_index\u001b[0m\u001b[0;34m]\u001b[0m\u001b[0;34m\u001b[0m\u001b[0;34m\u001b[0m\u001b[0m\n",
      "\u001b[0;32m~/.local/lib/python3.8/site-packages/torch/utils/data/_utils/fetch.py\u001b[0m in \u001b[0;36m<listcomp>\u001b[0;34m(.0)\u001b[0m\n\u001b[1;32m     42\u001b[0m     \u001b[0;32mdef\u001b[0m \u001b[0mfetch\u001b[0m\u001b[0;34m(\u001b[0m\u001b[0mself\u001b[0m\u001b[0;34m,\u001b[0m \u001b[0mpossibly_batched_index\u001b[0m\u001b[0;34m)\u001b[0m\u001b[0;34m:\u001b[0m\u001b[0;34m\u001b[0m\u001b[0;34m\u001b[0m\u001b[0m\n\u001b[1;32m     43\u001b[0m         \u001b[0;32mif\u001b[0m \u001b[0mself\u001b[0m\u001b[0;34m.\u001b[0m\u001b[0mauto_collation\u001b[0m\u001b[0;34m:\u001b[0m\u001b[0;34m\u001b[0m\u001b[0;34m\u001b[0m\u001b[0m\n\u001b[0;32m---> 44\u001b[0;31m             \u001b[0mdata\u001b[0m \u001b[0;34m=\u001b[0m \u001b[0;34m[\u001b[0m\u001b[0mself\u001b[0m\u001b[0;34m.\u001b[0m\u001b[0mdataset\u001b[0m\u001b[0;34m[\u001b[0m\u001b[0midx\u001b[0m\u001b[0;34m]\u001b[0m \u001b[0;32mfor\u001b[0m \u001b[0midx\u001b[0m \u001b[0;32min\u001b[0m \u001b[0mpossibly_batched_index\u001b[0m\u001b[0;34m]\u001b[0m\u001b[0;34m\u001b[0m\u001b[0;34m\u001b[0m\u001b[0m\n\u001b[0m\u001b[1;32m     45\u001b[0m         \u001b[0;32melse\u001b[0m\u001b[0;34m:\u001b[0m\u001b[0;34m\u001b[0m\u001b[0;34m\u001b[0m\u001b[0m\n\u001b[1;32m     46\u001b[0m             \u001b[0mdata\u001b[0m \u001b[0;34m=\u001b[0m \u001b[0mself\u001b[0m\u001b[0;34m.\u001b[0m\u001b[0mdataset\u001b[0m\u001b[0;34m[\u001b[0m\u001b[0mpossibly_batched_index\u001b[0m\u001b[0;34m]\u001b[0m\u001b[0;34m\u001b[0m\u001b[0;34m\u001b[0m\u001b[0m\n",
      "\u001b[0;32m~/Desktop/Quick Access/Signals/CV/Assignment_3/Utils.py\u001b[0m in \u001b[0;36m__getitem__\u001b[0;34m(self, idx0)\u001b[0m\n\u001b[1;32m     89\u001b[0m \u001b[0;34m\u001b[0m\u001b[0m\n\u001b[1;32m     90\u001b[0m         \u001b[0mimg\u001b[0m \u001b[0;34m=\u001b[0m \u001b[0mself\u001b[0m\u001b[0;34m.\u001b[0m\u001b[0mx\u001b[0m\u001b[0;34m[\u001b[0m\u001b[0midxs\u001b[0m\u001b[0;34m[\u001b[0m\u001b[0;36m0\u001b[0m\u001b[0;34m]\u001b[0m\u001b[0;34m]\u001b[0m\u001b[0;34m.\u001b[0m\u001b[0mreshape\u001b[0m\u001b[0;34m(\u001b[0m\u001b[0;36m28\u001b[0m\u001b[0;34m,\u001b[0m\u001b[0;36m28\u001b[0m\u001b[0;34m)\u001b[0m\u001b[0;34m\u001b[0m\u001b[0;34m\u001b[0m\u001b[0m\n\u001b[0;32m---> 91\u001b[0;31m         \u001b[0mmask\u001b[0m \u001b[0;34m=\u001b[0m \u001b[0mTSS_Segment\u001b[0m\u001b[0;34m(\u001b[0m\u001b[0mimg\u001b[0m\u001b[0;34m)\u001b[0m\u001b[0;34m\u001b[0m\u001b[0;34m\u001b[0m\u001b[0m\n\u001b[0m\u001b[1;32m     92\u001b[0m         \u001b[0ms_mask\u001b[0m \u001b[0;34m=\u001b[0m \u001b[0mnp\u001b[0m\u001b[0;34m.\u001b[0m\u001b[0mones\u001b[0m\u001b[0;34m(\u001b[0m\u001b[0;34m(\u001b[0m\u001b[0;36m28\u001b[0m\u001b[0;34m,\u001b[0m\u001b[0;36m28\u001b[0m\u001b[0;34m)\u001b[0m\u001b[0;34m)\u001b[0m\u001b[0;34m*\u001b[0m\u001b[0;36m10\u001b[0m\u001b[0;34m\u001b[0m\u001b[0;34m\u001b[0m\u001b[0m\n\u001b[1;32m     93\u001b[0m         \u001b[0ms_mask\u001b[0m\u001b[0;34m[\u001b[0m\u001b[0mmask\u001b[0m\u001b[0;34m]\u001b[0m \u001b[0;34m=\u001b[0m \u001b[0mself\u001b[0m\u001b[0;34m.\u001b[0m\u001b[0my\u001b[0m\u001b[0;34m[\u001b[0m\u001b[0midxs\u001b[0m\u001b[0;34m[\u001b[0m\u001b[0;36m0\u001b[0m\u001b[0;34m]\u001b[0m\u001b[0;34m]\u001b[0m\u001b[0;34m\u001b[0m\u001b[0;34m\u001b[0m\u001b[0m\n",
      "\u001b[0;32m~/Desktop/Quick Access/Signals/CV/Assignment_3/Utils.py\u001b[0m in \u001b[0;36mTSS_Segment\u001b[0;34m(data)\u001b[0m\n\u001b[1;32m     21\u001b[0m         \u001b[0ms2_mean\u001b[0m \u001b[0;34m=\u001b[0m \u001b[0mnp\u001b[0m\u001b[0;34m.\u001b[0m\u001b[0marray\u001b[0m\u001b[0;34m(\u001b[0m\u001b[0;34m[\u001b[0m\u001b[0mii\u001b[0m\u001b[0;34m*\u001b[0m\u001b[0mhist\u001b[0m\u001b[0;34m[\u001b[0m\u001b[0mii\u001b[0m\u001b[0;34m]\u001b[0m\u001b[0;34m/\u001b[0m\u001b[0mw2\u001b[0m \u001b[0;32mfor\u001b[0m \u001b[0mii\u001b[0m \u001b[0;32min\u001b[0m \u001b[0mrange\u001b[0m\u001b[0;34m(\u001b[0m\u001b[0mi\u001b[0m\u001b[0;34m,\u001b[0m\u001b[0;36m256\u001b[0m\u001b[0;34m)\u001b[0m\u001b[0;34m]\u001b[0m\u001b[0;34m)\u001b[0m\u001b[0;34m.\u001b[0m\u001b[0msum\u001b[0m\u001b[0;34m(\u001b[0m\u001b[0;34m)\u001b[0m\u001b[0;34m\u001b[0m\u001b[0;34m\u001b[0m\u001b[0m\n\u001b[1;32m     22\u001b[0m         \u001b[0ms1\u001b[0m \u001b[0;34m=\u001b[0m \u001b[0mnp\u001b[0m\u001b[0;34m.\u001b[0m\u001b[0msquare\u001b[0m\u001b[0;34m(\u001b[0m\u001b[0;34m[\u001b[0m\u001b[0mii\u001b[0m \u001b[0;34m-\u001b[0m \u001b[0ms1_mean\u001b[0m \u001b[0;32mfor\u001b[0m \u001b[0mii\u001b[0m \u001b[0;32min\u001b[0m \u001b[0mrange\u001b[0m\u001b[0;34m(\u001b[0m\u001b[0mi\u001b[0m\u001b[0;34m)\u001b[0m\u001b[0;34m]\u001b[0m\u001b[0;34m)\u001b[0m\u001b[0;34m.\u001b[0m\u001b[0msum\u001b[0m\u001b[0;34m(\u001b[0m\u001b[0;34m)\u001b[0m\u001b[0;34m\u001b[0m\u001b[0;34m\u001b[0m\u001b[0m\n\u001b[0;32m---> 23\u001b[0;31m         \u001b[0ms2\u001b[0m \u001b[0;34m=\u001b[0m \u001b[0mnp\u001b[0m\u001b[0;34m.\u001b[0m\u001b[0msquare\u001b[0m\u001b[0;34m(\u001b[0m\u001b[0;34m[\u001b[0m\u001b[0mii\u001b[0m \u001b[0;34m-\u001b[0m \u001b[0ms2_mean\u001b[0m \u001b[0;32mfor\u001b[0m \u001b[0mii\u001b[0m \u001b[0;32min\u001b[0m \u001b[0mrange\u001b[0m\u001b[0;34m(\u001b[0m\u001b[0mi\u001b[0m\u001b[0;34m,\u001b[0m\u001b[0;36m256\u001b[0m\u001b[0;34m)\u001b[0m\u001b[0;34m]\u001b[0m\u001b[0;34m)\u001b[0m\u001b[0;34m.\u001b[0m\u001b[0msum\u001b[0m\u001b[0;34m(\u001b[0m\u001b[0;34m)\u001b[0m\u001b[0;34m\u001b[0m\u001b[0;34m\u001b[0m\u001b[0m\n\u001b[0m\u001b[1;32m     24\u001b[0m         \u001b[0;32mif\u001b[0m \u001b[0;34m(\u001b[0m\u001b[0ms1\u001b[0m \u001b[0;34m+\u001b[0m \u001b[0ms2\u001b[0m \u001b[0;34m<\u001b[0m \u001b[0mval\u001b[0m\u001b[0;34m)\u001b[0m\u001b[0;34m:\u001b[0m\u001b[0;34m\u001b[0m\u001b[0;34m\u001b[0m\u001b[0m\n\u001b[1;32m     25\u001b[0m             \u001b[0mval\u001b[0m \u001b[0;34m=\u001b[0m \u001b[0ms1\u001b[0m\u001b[0;34m+\u001b[0m\u001b[0ms2\u001b[0m\u001b[0;34m\u001b[0m\u001b[0;34m\u001b[0m\u001b[0m\n",
      "\u001b[0;32m~/Desktop/Quick Access/Signals/CV/Assignment_3/Utils.py\u001b[0m in \u001b[0;36m<listcomp>\u001b[0;34m(.0)\u001b[0m\n\u001b[1;32m     21\u001b[0m         \u001b[0ms2_mean\u001b[0m \u001b[0;34m=\u001b[0m \u001b[0mnp\u001b[0m\u001b[0;34m.\u001b[0m\u001b[0marray\u001b[0m\u001b[0;34m(\u001b[0m\u001b[0;34m[\u001b[0m\u001b[0mii\u001b[0m\u001b[0;34m*\u001b[0m\u001b[0mhist\u001b[0m\u001b[0;34m[\u001b[0m\u001b[0mii\u001b[0m\u001b[0;34m]\u001b[0m\u001b[0;34m/\u001b[0m\u001b[0mw2\u001b[0m \u001b[0;32mfor\u001b[0m \u001b[0mii\u001b[0m \u001b[0;32min\u001b[0m \u001b[0mrange\u001b[0m\u001b[0;34m(\u001b[0m\u001b[0mi\u001b[0m\u001b[0;34m,\u001b[0m\u001b[0;36m256\u001b[0m\u001b[0;34m)\u001b[0m\u001b[0;34m]\u001b[0m\u001b[0;34m)\u001b[0m\u001b[0;34m.\u001b[0m\u001b[0msum\u001b[0m\u001b[0;34m(\u001b[0m\u001b[0;34m)\u001b[0m\u001b[0;34m\u001b[0m\u001b[0;34m\u001b[0m\u001b[0m\n\u001b[1;32m     22\u001b[0m         \u001b[0ms1\u001b[0m \u001b[0;34m=\u001b[0m \u001b[0mnp\u001b[0m\u001b[0;34m.\u001b[0m\u001b[0msquare\u001b[0m\u001b[0;34m(\u001b[0m\u001b[0;34m[\u001b[0m\u001b[0mii\u001b[0m \u001b[0;34m-\u001b[0m \u001b[0ms1_mean\u001b[0m \u001b[0;32mfor\u001b[0m \u001b[0mii\u001b[0m \u001b[0;32min\u001b[0m \u001b[0mrange\u001b[0m\u001b[0;34m(\u001b[0m\u001b[0mi\u001b[0m\u001b[0;34m)\u001b[0m\u001b[0;34m]\u001b[0m\u001b[0;34m)\u001b[0m\u001b[0;34m.\u001b[0m\u001b[0msum\u001b[0m\u001b[0;34m(\u001b[0m\u001b[0;34m)\u001b[0m\u001b[0;34m\u001b[0m\u001b[0;34m\u001b[0m\u001b[0m\n\u001b[0;32m---> 23\u001b[0;31m         \u001b[0ms2\u001b[0m \u001b[0;34m=\u001b[0m \u001b[0mnp\u001b[0m\u001b[0;34m.\u001b[0m\u001b[0msquare\u001b[0m\u001b[0;34m(\u001b[0m\u001b[0;34m[\u001b[0m\u001b[0mii\u001b[0m \u001b[0;34m-\u001b[0m \u001b[0ms2_mean\u001b[0m \u001b[0;32mfor\u001b[0m \u001b[0mii\u001b[0m \u001b[0;32min\u001b[0m \u001b[0mrange\u001b[0m\u001b[0;34m(\u001b[0m\u001b[0mi\u001b[0m\u001b[0;34m,\u001b[0m\u001b[0;36m256\u001b[0m\u001b[0;34m)\u001b[0m\u001b[0;34m]\u001b[0m\u001b[0;34m)\u001b[0m\u001b[0;34m.\u001b[0m\u001b[0msum\u001b[0m\u001b[0;34m(\u001b[0m\u001b[0;34m)\u001b[0m\u001b[0;34m\u001b[0m\u001b[0;34m\u001b[0m\u001b[0m\n\u001b[0m\u001b[1;32m     24\u001b[0m         \u001b[0;32mif\u001b[0m \u001b[0;34m(\u001b[0m\u001b[0ms1\u001b[0m \u001b[0;34m+\u001b[0m \u001b[0ms2\u001b[0m \u001b[0;34m<\u001b[0m \u001b[0mval\u001b[0m\u001b[0;34m)\u001b[0m\u001b[0;34m:\u001b[0m\u001b[0;34m\u001b[0m\u001b[0;34m\u001b[0m\u001b[0m\n\u001b[1;32m     25\u001b[0m             \u001b[0mval\u001b[0m \u001b[0;34m=\u001b[0m \u001b[0ms1\u001b[0m\u001b[0;34m+\u001b[0m\u001b[0ms2\u001b[0m\u001b[0;34m\u001b[0m\u001b[0;34m\u001b[0m\u001b[0m\n",
      "\u001b[0;31mKeyboardInterrupt\u001b[0m: "
     ]
    }
   ],
   "source": [
    "for e in range(epochs):\n",
    "    net.train()\n",
    "    for idx, data in enumerate(train_loader):\n",
    "        inpt = data['x'].to(device)\n",
    "        seg_mask = data['seg_mask'].to(device)\n",
    "\n",
    "        optimizer.zero_grad()\n",
    "        output = net(inpt)      \n",
    "        \n",
    "        loss =  criterion(output,seg_mask)\n",
    "        loss.backward()\n",
    "        train_loss += loss.item()\n",
    "        optimizer.step()\n",
    "        \n",
    "        if idx %log_interval == 0:\n",
    "            print('Train Epoch: {} [{}/{} ({:.0f}%)]\\tLoss: {:.6f}'.format(\n",
    "                e, idx, len(train_loader),\n",
    "                100. * idx / len(train_loader), loss.item()))\n",
    "            d = {'state_dict':net.state_dict(), 'train_losses': train_losses}\n",
    "            torch.save(d,path + 'q4.pth')\n",
    "            print(\"Model Saved Epoch: {},Idx:{}\".format(e,idx))\n",
    "        \n",
    "    train_loss /= len(train_loader.dataset)\n",
    "    train_loss.append(train_loss)"
   ]
  },
  {
   "cell_type": "code",
   "execution_count": 5,
   "id": "pharmaceutical-humor",
   "metadata": {},
   "outputs": [
    {
     "name": "stderr",
     "output_type": "stream",
     "text": [
      "/home/sirius/Desktop/Quick Access/Signals/CV/Assignment_3/Utils.py:21: RuntimeWarning: invalid value encountered in double_scalars\n",
      "  s2_mean = np.array([ii*hist[ii]/w2 for ii in range(i,256)]).sum()\n"
     ]
    },
    {
     "name": "stdout",
     "output_type": "stream",
     "text": [
      "0/667\n"
     ]
    },
    {
     "name": "stderr",
     "output_type": "stream",
     "text": [
      "/home/sirius/.local/lib/python3.8/site-packages/torch/nn/functional.py:3060: UserWarning: Default upsampling behavior when mode=bilinear is changed to align_corners=False since 0.4.0. Please specify align_corners=True if the old behavior is desired. See the documentation of nn.Upsample for details.\n",
      "  warnings.warn(\"Default upsampling behavior when mode={} is changed \"\n"
     ]
    },
    {
     "name": "stdout",
     "output_type": "stream",
     "text": [
      "1/667\n",
      "2/667\n",
      "3/667\n",
      "4/667\n",
      "5/667\n",
      "6/667\n",
      "7/667\n",
      "8/667\n",
      "9/667\n",
      "10/667\n"
     ]
    },
    {
     "data": {
      "text/plain": [
       "(0.7726016793795142, 127.47927709761983)"
      ]
     },
     "execution_count": 5,
     "metadata": {},
     "output_type": "execute_result"
    }
   ],
   "source": [
    "# idx, data = next(enumerate(test_loader))\n",
    "# output = torch.exp(net(data['x'].to(device)))\n",
    "# plt.subplot(1,2,1)\n",
    "# plt.imshow(output.detach().argmax(dim=1).numpy()[0])\n",
    "\n",
    "\n",
    "JSim3(net,test_loader,device)"
   ]
  },
  {
   "cell_type": "code",
   "execution_count": 2,
   "id": "velvet-sunset",
   "metadata": {},
   "outputs": [
    {
     "ename": "NameError",
     "evalue": "name 'torch' is not defined",
     "output_type": "error",
     "traceback": [
      "\u001b[0;31m---------------------------------------------------------------------------\u001b[0m",
      "\u001b[0;31mNameError\u001b[0m                                 Traceback (most recent call last)",
      "\u001b[0;32m<ipython-input-2-aeff31185993>\u001b[0m in \u001b[0;36m<module>\u001b[0;34m\u001b[0m\n\u001b[0;32m----> 1\u001b[0;31m \u001b[0;32mwith\u001b[0m \u001b[0mtorch\u001b[0m\u001b[0;34m.\u001b[0m\u001b[0mno_grad\u001b[0m\u001b[0;34m(\u001b[0m\u001b[0;34m)\u001b[0m\u001b[0;34m:\u001b[0m\u001b[0;34m\u001b[0m\u001b[0;34m\u001b[0m\u001b[0m\n\u001b[0m\u001b[1;32m      2\u001b[0m     \u001b[0midx\u001b[0m\u001b[0;34m,\u001b[0m \u001b[0mdata\u001b[0m \u001b[0;34m=\u001b[0m \u001b[0mnext\u001b[0m\u001b[0;34m(\u001b[0m\u001b[0menumerate\u001b[0m\u001b[0;34m(\u001b[0m\u001b[0mtest_loader\u001b[0m\u001b[0;34m)\u001b[0m\u001b[0;34m)\u001b[0m\u001b[0;34m\u001b[0m\u001b[0;34m\u001b[0m\u001b[0m\n\u001b[1;32m      3\u001b[0m     \u001b[0moutput\u001b[0m \u001b[0;34m=\u001b[0m \u001b[0mtorch\u001b[0m\u001b[0;34m.\u001b[0m\u001b[0mexp\u001b[0m\u001b[0;34m(\u001b[0m\u001b[0mnet\u001b[0m\u001b[0;34m(\u001b[0m\u001b[0mdata\u001b[0m\u001b[0;34m[\u001b[0m\u001b[0;34m'x'\u001b[0m\u001b[0;34m]\u001b[0m\u001b[0;34m.\u001b[0m\u001b[0mto\u001b[0m\u001b[0;34m(\u001b[0m\u001b[0mdevice\u001b[0m\u001b[0;34m)\u001b[0m\u001b[0;34m)\u001b[0m\u001b[0;34m.\u001b[0m\u001b[0mcpu\u001b[0m\u001b[0;34m(\u001b[0m\u001b[0;34m)\u001b[0m\u001b[0;34m)\u001b[0m\u001b[0;34m\u001b[0m\u001b[0;34m\u001b[0m\u001b[0m\n\u001b[1;32m      4\u001b[0m     \u001b[0mpredicted\u001b[0m \u001b[0;34m=\u001b[0m \u001b[0moutput\u001b[0m\u001b[0;34m.\u001b[0m\u001b[0mdetach\u001b[0m\u001b[0;34m(\u001b[0m\u001b[0;34m)\u001b[0m\u001b[0;34m.\u001b[0m\u001b[0margmax\u001b[0m\u001b[0;34m(\u001b[0m\u001b[0mdim\u001b[0m \u001b[0;34m=\u001b[0m \u001b[0;36m1\u001b[0m\u001b[0;34m)\u001b[0m\u001b[0;34m.\u001b[0m\u001b[0mnumpy\u001b[0m\u001b[0;34m(\u001b[0m\u001b[0;34m)\u001b[0m\u001b[0;34m\u001b[0m\u001b[0;34m\u001b[0m\u001b[0m\n\u001b[1;32m      5\u001b[0m     \u001b[0mlabels\u001b[0m \u001b[0;34m=\u001b[0m \u001b[0mdata\u001b[0m\u001b[0;34m[\u001b[0m\u001b[0;34m'seg_mask'\u001b[0m\u001b[0;34m]\u001b[0m\u001b[0;34m\u001b[0m\u001b[0;34m\u001b[0m\u001b[0m\n",
      "\u001b[0;31mNameError\u001b[0m: name 'torch' is not defined"
     ]
    }
   ],
   "source": [
    "with torch.no_grad():\n",
    "    idx, data = next(enumerate(test_loader))\n",
    "    output = torch.exp(net(data['x'].to(device)).cpu())\n",
    "    predicted = output.detach().argmax(dim = 1).numpy()\n",
    "    labels = data['seg_mask']"
   ]
  },
  {
   "cell_type": "code",
   "execution_count": 49,
   "id": "serious-cornwall",
   "metadata": {},
   "outputs": [
    {
     "data": {
      "image/png": "[encoded data removed]",
      "text/plain": [
       "<Figure size 864x576 with 10 Axes>"
      ]
     },
     "metadata": {
      "needs_background": "light"
     },
     "output_type": "display_data"
    }
   ],
   "source": [
    "plt.rcParams['figure.figsize'] = [12, 8]\n",
    "plt.rcParams[\"figure.edgecolor\"] = 'black'\n",
    "plt.rcParams['axes.edgecolor'] = 'white'\n",
    "for j in range(5):\n",
    "    plt.subplot(2,5,j+1)\n",
    "    plt.axis('off')\n",
    "    plt.title(\"Predicted\")\n",
    "    plt.imshow(predicted[j])\n",
    "\n",
    "    plt.subplot(2,5,6+ j)\n",
    "    plt.axis('off')\n",
    "    plt.title(\"Ground Truth\")\n",
    "    plt.imshow(labels[j])"
   ]
  },
  {
   "cell_type": "code",
   "execution_count": 38,
   "id": "acute-capital",
   "metadata": {},
   "outputs": [],
   "source": []
  },
  {
   "cell_type": "code",
   "execution_count": 3,
   "id": "acquired-basketball",
   "metadata": {},
   "outputs": [
    {
     "data": {
      "text/plain": [
       "10000"
      ]
     },
     "execution_count": 3,
     "metadata": {},
     "output_type": "execute_result"
    }
   ],
   "source": [
    "len(test_loader.dataset)"
   ]
  }
 ],
 "metadata": {
  "kernelspec": {
   "display_name": "Python 3",
   "language": "python",
   "name": "python3"
  },
  "language_info": {
   "codemirror_mode": {
    "name": "ipython",
    "version": 3
   },
   "file_extension": ".py",
   "mimetype": "text/x-python",
   "name": "python",
   "nbconvert_exporter": "python",
   "pygments_lexer": "ipython3",
   "version": "3.8.5"
  }
 },
 "nbformat": 4,
 "nbformat_minor": 5
}
